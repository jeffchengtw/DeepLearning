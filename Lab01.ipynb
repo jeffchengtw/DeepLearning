{
 "cells": [
  {
   "cell_type": "code",
   "execution_count": 1,
   "metadata": {},
   "outputs": [],
   "source": [
    "import numpy as np\n",
    "import matplotlib.pyplot as plt\n",
    "from matplotlib.colors import LinearSegmentedColormap"
   ]
  },
  {
   "cell_type": "code",
   "execution_count": 2,
   "metadata": {},
   "outputs": [],
   "source": [
    "def generate_linear(n=100):\n",
    "    pts = np.random.uniform(0, 1, (n, 2))\n",
    "    inputs = []\n",
    "    labels = []\n",
    "    for pt in pts:\n",
    "        inputs.append([pt[0], pt[1]])\n",
    "        distance = (pt[0] - pt[1]) / 1.414\n",
    "        if pt[0] > pt[1]:\n",
    "            labels.append(0)\n",
    "        else:\n",
    "            labels.append(1)\n",
    "    return np.array(inputs), np.array(labels).reshape(n, 1)\n",
    "\n",
    "def generate_XOR_easy():\n",
    "    inputs = []\n",
    "    labels = []\n",
    "    \n",
    "    for i in range(11):\n",
    "        inputs.append([0.1*i, 0.1*i])\n",
    "        labels.append(0)\n",
    "        \n",
    "        if 0.1*i == 0.5:\n",
    "            continue\n",
    "            \n",
    "        inputs.append([0.1*i, 1-0.1*i])\n",
    "        labels.append(1)\n",
    "        \n",
    "    return np.array(inputs), np.array(labels).reshape(21, 1)\n",
    "\n",
    "def show_dataset(x1, y1, x2, y2 ):\n",
    "    plt.subplot(1,2,1)\n",
    "    plt.title('Linear', fontsize=18)\n",
    "    for i in range(x1.shape[0]):\n",
    "        if y1[i] == 0:\n",
    "            plt.plot(x1[i][0], x1[i][1], 'ro')\n",
    "        else:\n",
    "            plt.plot(x1[i][0], x1[i][1], 'bo')\n",
    "    plt.subplot(1,2,2)\n",
    "    plt.title('XOR', fontsize=18)\n",
    "    for i in range(x2.shape[0]):\n",
    "        if y2[i] == 0:\n",
    "            plt.plot(x2[i][0], x2[i][1], 'ro')\n",
    "        else:\n",
    "            plt.plot(x2[i][0], x2[i][1], 'bo')\n",
    "    plt.show()\n",
    "\n",
    "def show_result(x, y, pred_y, history):\n",
    "    pred_y = np.round(pred_y)\n",
    "    cm = LinearSegmentedColormap.from_list(\n",
    "        'mymap', [(1, 0, 0), (0, 0, 1)], N=2)\n",
    "    plt.figure(figsize=(10,5))\n",
    "    plt.subplot(1,3,1)\n",
    "    plt.title('Ground truth', fontsize=18)\n",
    "    plt.scatter(x[:,0], x[:,1], c=y[:,0], cmap=cm)\n",
    "    \n",
    "    plt.subplot(1,3,2)\n",
    "    plt.title('Predict result', fontsize=18)\n",
    "    plt.scatter(x[:,0], x[:,1], c=pred_y[:,0], cmap=cm)\n",
    "    \n",
    "    epoch = np.array([i[0] for i in history])\n",
    "    loss = np.array([i[1] for i in history])\n",
    "    plt.subplot(1,3,3)\n",
    "    plt.title('Learning Curve', fontsize=18)\n",
    "    plt.xlabel('Epoch')\n",
    "    plt.ylabel('Loss')\n",
    "    plt.scatter(epoch, loss)\n",
    "    \n",
    "    plt.show()"
   ]
  },
  {
   "cell_type": "code",
   "execution_count": 3,
   "metadata": {},
   "outputs": [
    {
     "data": {
      "image/png": "[encoded data removed]",
      "text/plain": [
       "<Figure size 432x288 with 2 Axes>"
      ]
     },
     "metadata": {
      "needs_background": "light"
     },
     "output_type": "display_data"
    }
   ],
   "source": [
    "x1, y1 = generate_linear(n=100)\n",
    "x2, y2 = generate_XOR_easy()\n",
    "show_dataset(x1, y1, x2, y2)"
   ]
  },
  {
   "cell_type": "markdown",
   "metadata": {},
   "source": [
    "## Basic Idea"
   ]
  },
  {
   "cell_type": "markdown",
   "metadata": {},
   "source": [
    "We are trying to find the best network parameters $\\theta\\{w_1, w_2, w_3,...,b_1,b_2\\}$ that minimize the loss $L$ .  When we get the gradient  $\\nabla L$ , update the network paramter $w$ by Gradient Descent. "
   ]
  },
  {
   "cell_type": "markdown",
   "metadata": {},
   "source": [
    "## Gradient Descent"
   ]
  },
  {
   "cell_type": "markdown",
   "metadata": {},
   "source": [
    "Actually we have a lot of $\\nabla L$, it is a vector : <br>\n",
    "$$\\begin{equation}\t\\begin{bmatrix}\t \\frac{\\partial{L(\\theta)}}{\\partial{w_1}}\\\\\\frac{\\partial{L(\\theta)}}{\\partial{w_2}}\\\\.\\\\.\\\\.\\\\\\frac{\\partial{L(\\theta)}}{\\partial{b_1}}\\end{bmatrix}\\end{equation}$$<br>\n",
    "Then compute $\\nabla L(\\theta^{0}),\\nabla L(\\theta^{1}),\\nabla L(\\theta^{2})...$ <br>\n",
    "Update the $\\theta$ , $\\theta^{1}=\\theta^{0}-\\eta\\nabla L(\\theta^{0})$, we get new $\\theta^{1}$."
   ]
  },
  {
   "cell_type": "markdown",
   "metadata": {},
   "source": [
    "# Compute $\\nabla L$"
   ]
  },
  {
   "cell_type": "markdown",
   "metadata": {},
   "source": [
    "![title](fig/fig0.png)"
   ]
  },
  {
   "cell_type": "markdown",
   "metadata": {},
   "source": [
    "$L(\\theta)=\\sum_{n=1}^{N}C^n(\\theta)$ , where $C^n$ is the distance between $y_{pred},y_{gt}$ <br>\n",
    "Then do the partial to all parameters, we get : <br>\n",
    "$$\\frac{\\partial{L(\\theta)}}{\\partial{w}}=\\sum_{n=1}^{N}\\frac{\\partial{C^{n}(\\theta)}}{\\partial{w}}$$<br>\n",
    "Next, we will focus on how to compute $\\frac{\\partial{C^{n}(\\theta)}}{\\partial{w}}$."
   ]
  },
  {
   "cell_type": "markdown",
   "metadata": {},
   "source": [
    "## Chain Rule"
   ]
  },
  {
   "cell_type": "markdown",
   "metadata": {},
   "source": [
    "$$\\frac{\\partial{C}}{\\partial{w}}=\\frac{\\partial{z}}{\\partial{w}}\\frac{\\partial{C}}{\\partial{z}}$$"
   ]
  },
  {
   "cell_type": "markdown",
   "metadata": {},
   "source": [
    "### Forward Pass"
   ]
  },
  {
   "cell_type": "markdown",
   "metadata": {},
   "source": [
    "![title](fig/fig1.png)"
   ]
  },
  {
   "cell_type": "markdown",
   "metadata": {},
   "source": [
    "Compute $\\frac{\\partial{z}}{\\partial{w}}$ for all parameters. <br>\n",
    "$$\\frac{\\partial{z}}{\\partial{w}}=x_1$$"
   ]
  },
  {
   "cell_type": "markdown",
   "metadata": {},
   "source": [
    "### Backward Pass"
   ]
  },
  {
   "cell_type": "markdown",
   "metadata": {},
   "source": [
    "Compute $\\frac{\\partial{C}}{\\partial{z}}$ for all activation function inputs $z$. <br>\n",
    "Use Chain rule again : <br>\n",
    "$$\\frac{\\partial{C}}{\\partial{z}}=\\frac{\\partial{a}}{\\partial{z}}\\frac{\\partial{C}}{\\partial{a}}$$ <br>\n",
    "It is easy to compute the first term : <br>\n",
    "$$\\frac{\\partial{a}}{\\partial{z}}=\\sigma'(z)$$ <br>\n",
    "The difficult part is the second term that we have to concern about two cases : <br>\n",
    "- output → hidden\n",
    "- hidden → hidden"
   ]
  },
  {
   "cell_type": "markdown",
   "metadata": {},
   "source": [
    "In this part, we have to start from the \"known parameters\". So we will do the \"output → hidden\" case fisrt. <br>\n",
    "$$ \\frac{\\partial C}{\\partial z} = L'(y, \\hat{y}) $$ <br>\n",
    "Now that we know the gradient of \"output → hidden\", we can continue to derive the previous layer \"hidden → hidden\" <br>\n",
    "As the figure shown, we can now compute the output of previous node, then we get the backward gradient : <br>\n",
    "$$\\frac{\\partial{C}}{\\partial{z}}=\\sigma '(z)[w_3\\frac{\\partial{C}}{\\partial{z'}}+w_4\\frac{\\partial{C}}{\\partial{z''}}]$$"
   ]
  },
  {
   "cell_type": "markdown",
   "metadata": {},
   "source": [
    "![title](fig/fig2.png)"
   ]
  },
  {
   "cell_type": "markdown",
   "metadata": {},
   "source": [
    "# Implement"
   ]
  },
  {
   "cell_type": "markdown",
   "metadata": {},
   "source": [
    "## Requirements\n",
    "1. Implement simple neural networks with two hidden layers. "
   ]
  },
  {
   "cell_type": "markdown",
   "metadata": {},
   "source": [
    "- hidden layer 1st : <br>\n",
    "As the figure showing, I design the network architecture use 2 hidden layer with each 4 neurons.<br>\n",
    "The training data points are $(x_1, x_2)$, so there will be two value feed input the first hidden layer, we make the input shape of first layer is 2, and output for next layer with 4 neurons. We figure out the shape of first hidden layer is (2, 4).\n",
    "- hidden layer 2nd : <br>\n",
    "After forwarding pass the first hidden layer, the ouput $a=\\sigma(z)$ is a scalar, which means there will be only one value ouput in each neuron, but there are 4 neurons in first hidden layer, we have to design the input size of second layer as 4.\n",
    "At last, ouput one answer to the output layer, so the shape of second hidden layer is (4, 1)."
   ]
  },
  {
   "cell_type": "markdown",
   "metadata": {},
   "source": [
    "![title](fig/fig3.png)"
   ]
  },
  {
   "cell_type": "code",
   "execution_count": 4,
   "metadata": {},
   "outputs": [],
   "source": [
    "def sigmoid(x):\n",
    "    return 1.0 / (1.0 + np.exp(-x))\n",
    "\n",
    "def derivative_sigmoid(x):\n",
    "    return np.multiply(x, 1.0 - x)\n",
    "\n",
    "def MSE(y, y_hat):\n",
    "    return np.mean((y - y_hat)**2)\n",
    "    \n",
    "def derivative_loss(y, y_hat):\n",
    "    return (y - y_hat)*(2/y.shape[0])"
   ]
  },
  {
   "cell_type": "code",
   "execution_count": 5,
   "metadata": {},
   "outputs": [],
   "source": [
    "class layer():\n",
    "    def __init__(self, input_size, output_size) -> None:\n",
    "        # neuron\n",
    "        self.w = np.random.normal(0, 1, (input_size, output_size))\n",
    "        self.gradient = None\n",
    "    \n",
    "    def forward(self, X):\n",
    "        self.forward_gradient = X\n",
    "        z = X@self.w\n",
    "        self.a = sigmoid(z)\n",
    "        return self.a\n",
    "\n",
    "    def backward(self, derivative_C):\n",
    "        self.backward_gradient = np.multiply(\n",
    "            derivative_sigmoid(self.a), \n",
    "            derivative_C\n",
    "        )\n",
    "        return np.matmul(self.backward_gradient, self.w.T) \n",
    "    \n",
    "    def update_param(self):\n",
    "        self.gradient = np.matmul(\n",
    "            self.forward_gradient.T, \n",
    "            self.backward_gradient\n",
    "        )\n",
    "        self.w += LEARNING_RATE*self.gradient"
   ]
  },
  {
   "cell_type": "code",
   "execution_count": 6,
   "metadata": {},
   "outputs": [],
   "source": [
    "class Model():\n",
    "    def __init__(self) -> None:\n",
    "        self.hidden_layer_1 = layer(2, 4)\n",
    "        self.hidden_layer_2 = layer(4, 1)\n",
    "        pass\n",
    "    \n",
    "    def forward(self, X):\n",
    "        a1 = self.hidden_layer_1.forward(X)\n",
    "        a2 = self.hidden_layer_2.forward(a1)\n",
    "        return a2\n",
    "\n",
    "    def backward(self, d_loss):\n",
    "        g1 = self.hidden_layer_2.backward(d_loss)\n",
    "        g2 = self.hidden_layer_1.backward(g1)\n",
    "        return g1, g2\n",
    "    \n",
    "    def update(self):\n",
    "        self.hidden_layer_2.update_param()\n",
    "        self.hidden_layer_1.update_param()"
   ]
  },
  {
   "cell_type": "code",
   "execution_count": 7,
   "metadata": {},
   "outputs": [],
   "source": [
    "# hyperparameter\n",
    "EPOCH = 10000\n",
    "LEARNING_RATE = 1\n",
    " # history\n",
    "history_linear = []\n",
    "history_XOR = []"
   ]
  },
  {
   "cell_type": "markdown",
   "metadata": {},
   "source": [
    "#### Train & Predict Linear Data"
   ]
  },
  {
   "cell_type": "code",
   "execution_count": 8,
   "metadata": {},
   "outputs": [
    {
     "name": "stdout",
     "output_type": "stream",
     "text": [
      "epoch : 0 loss : 0.32138588248299527 \n",
      "epoch : 500 loss : 0.04979340691714258 \n",
      "epoch : 1000 loss : 0.03309575531973608 \n",
      "epoch : 1500 loss : 0.02600506476746792 \n",
      "epoch : 2000 loss : 0.021652521579702256 \n",
      "epoch : 2500 loss : 0.018632668072133225 \n",
      "epoch : 3000 loss : 0.016399251371669848 \n",
      "epoch : 3500 loss : 0.014677134145623024 \n",
      "epoch : 4000 loss : 0.013307704081058573 \n",
      "epoch : 4500 loss : 0.012191875629055332 \n",
      "epoch : 5000 loss : 0.011264344852054327 \n",
      "epoch : 5500 loss : 0.010480342319845022 \n",
      "epoch : 6000 loss : 0.009808200847012118 \n",
      "epoch : 6500 loss : 0.00922492746147165 \n",
      "epoch : 7000 loss : 0.008713446065144482 \n",
      "epoch : 7500 loss : 0.008260820157937263 \n",
      "epoch : 8000 loss : 0.007857074283190829 \n",
      "epoch : 8500 loss : 0.0074943932574085634 \n",
      "epoch : 9000 loss : 0.007166566293786909 \n",
      "epoch : 9500 loss : 0.00686859361882803 \n"
     ]
    },
    {
     "data": {
      "image/png": "[encoded data removed]",
      "text/plain": [
       "<Figure size 720x360 with 3 Axes>"
      ]
     },
     "metadata": {
      "needs_background": "light"
     },
     "output_type": "display_data"
    }
   ],
   "source": [
    "X, y = generate_linear(n=100)\n",
    "# trian\n",
    "model_linear = Model()\n",
    "for epoch in range(EPOCH):\n",
    "    y_pred = model_linear.forward(X)\n",
    "    loss = MSE(y, y_pred)\n",
    "    d_loss = derivative_loss(y, y_pred)\n",
    "    g1, g2 = model_linear.backward(d_loss)\n",
    "    model_linear.update()\n",
    "\n",
    "    if epoch%500 == 0:\n",
    "        print(f'epoch : {epoch} loss : {loss} ')\n",
    "    history_linear.append((epoch, loss))\n",
    "\n",
    "y_linear = model_linear.forward(X)\n",
    "show_result(X, y, y_linear, history_linear)"
   ]
  },
  {
   "cell_type": "markdown",
   "metadata": {},
   "source": [
    "#### Train & Predict X_OR Data"
   ]
  },
  {
   "cell_type": "code",
   "execution_count": 9,
   "metadata": {},
   "outputs": [
    {
     "name": "stdout",
     "output_type": "stream",
     "text": [
      "epoch : 0 loss : 0.45013681053040233 \n",
      "epoch : 500 loss : 0.24814994649149305 \n",
      "epoch : 1000 loss : 0.2358035259431213 \n",
      "epoch : 1500 loss : 0.2180768318764983 \n",
      "epoch : 2000 loss : 0.1791621350035321 \n",
      "epoch : 2500 loss : 0.09971261235449831 \n",
      "epoch : 3000 loss : 0.0666243049679618 \n",
      "epoch : 3500 loss : 0.0488387724783186 \n",
      "epoch : 4000 loss : 0.036797403541448524 \n",
      "epoch : 4500 loss : 0.027910348502011722 \n",
      "epoch : 5000 loss : 0.021311195887315112 \n",
      "epoch : 5500 loss : 0.016480875118326035 \n",
      "epoch : 6000 loss : 0.012970614853408577 \n",
      "epoch : 6500 loss : 0.010407751819488002 \n",
      "epoch : 7000 loss : 0.008512287745964029 \n",
      "epoch : 7500 loss : 0.007086557412801751 \n",
      "epoch : 8000 loss : 0.005994676770088541 \n",
      "epoch : 8500 loss : 0.005143631560155898 \n",
      "epoch : 9000 loss : 0.0044692554314716875 \n",
      "epoch : 9500 loss : 0.003926680222047044 \n"
     ]
    },
    {
     "data": {
      "image/png": "[encoded data removed]",
      "text/plain": [
       "<Figure size 720x360 with 3 Axes>"
      ]
     },
     "metadata": {
      "needs_background": "light"
     },
     "output_type": "display_data"
    }
   ],
   "source": [
    "X_or, y_or = generate_XOR_easy()\n",
    "\n",
    "# trian\n",
    "model_xor = Model()\n",
    "for epoch in range(EPOCH):\n",
    "    y_pred = model_xor.forward(X_or)\n",
    "    loss = MSE(y_or, y_pred)\n",
    "    d_loss = derivative_loss(y_or, y_pred)\n",
    "    g1, g2 = model_xor.backward(d_loss)\n",
    "    model_xor.update()\n",
    "\n",
    "    if epoch%500 == 0:\n",
    "        print(f'epoch : {epoch} loss : {loss} ')\n",
    "\n",
    "    history_XOR.append((epoch, loss))\n",
    "y_linear = model_xor.forward(X_or)\n",
    "show_result(X_or, y_or, y_linear, history_XOR)"
   ]
  }
 ],
 "metadata": {
  "kernelspec": {
   "display_name": "Python [conda env:ML]",
   "language": "python",
   "name": "conda-env-ML-py"
  },
  "language_info": {
   "codemirror_mode": {
    "name": "ipython",
    "version": 3
   },
   "file_extension": ".py",
   "mimetype": "text/x-python",
   "name": "python",
   "nbconvert_exporter": "python",
   "pygments_lexer": "ipython3",
   "version": "3.6.13"
  }
 },
 "nbformat": 4,
 "nbformat_minor": 2
}
